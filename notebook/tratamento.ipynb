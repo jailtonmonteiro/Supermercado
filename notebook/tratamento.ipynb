{
 "cells": [
  {
   "cell_type": "markdown",
   "id": "658311bd",
   "metadata": {},
   "source": [
    "# Processamento de Dados de Vendas (2022-2024)\n",
    "Este notebook é dedicado ao tratamento abrangente de dados de vendas abrangendo o período de 2022 a 2024. Sua função principal é padronizar e corrigir os dados brutos de acordo com as regras comerciais estabelecidas, garantindo a integridade e a confiabilidade do conjunto de dados."
   ]
  },
  {
   "cell_type": "code",
   "execution_count": 2,
   "id": "2fe2c0c3",
   "metadata": {},
   "outputs": [],
   "source": [
    "# Defininindo o arquivo de trabalho\n",
    "\n",
    "arquivo = '../data/raw/vendas_22-24.csv'"
   ]
  },
  {
   "cell_type": "code",
   "execution_count": 4,
   "id": "3f953b1f",
   "metadata": {},
   "outputs": [],
   "source": [
    "# Importação das bibliotecas utilizadas.\n",
    "\n",
    "import pandas as pd\n",
    "import statistics as sts"
   ]
  },
  {
   "cell_type": "code",
   "execution_count": null,
   "id": "ecae99e3",
   "metadata": {},
   "outputs": [
    {
     "name": "stdout",
     "output_type": "stream",
     "text": [
      "<class 'pandas.core.frame.DataFrame'>\n",
      "RangeIndex: 10000 entries, 0 to 9999\n",
      "Data columns (total 9 columns):\n",
      " #   Column           Non-Null Count  Dtype  \n",
      "---  ------           --------------  -----  \n",
      " 0   Data             10000 non-null  object \n",
      " 1   Loja             9672 non-null   object \n",
      " 2   Produto          10000 non-null  object \n",
      " 3   Categoria        10000 non-null  object \n",
      " 4   Quantidade       9691 non-null   float64\n",
      " 5   Preço Unitário   9688 non-null   float64\n",
      " 6   Total Venda      7979 non-null   float64\n",
      " 7   Cliente_ID       9732 non-null   float64\n",
      " 8   Forma_Pagamento  9684 non-null   object \n",
      "dtypes: float64(4), object(5)\n",
      "memory usage: 703.3+ KB\n"
     ]
    }
   ],
   "source": [
    "# Carregamento do arquivo de dados a ser utilizado.\n",
    "\n",
    "dados = pd.read_csv(arquivo, delimiter=';')\n",
    "dados.info()"
   ]
  }
 ],
 "metadata": {
  "kernelspec": {
   "display_name": "Python 3",
   "language": "python",
   "name": "python3"
  },
  "language_info": {
   "codemirror_mode": {
    "name": "ipython",
    "version": 3
   },
   "file_extension": ".py",
   "mimetype": "text/x-python",
   "name": "python",
   "nbconvert_exporter": "python",
   "pygments_lexer": "ipython3",
   "version": "3.13.5"
  }
 },
 "nbformat": 4,
 "nbformat_minor": 5
}
