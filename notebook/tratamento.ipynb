{
 "cells": [
  {
   "cell_type": "markdown",
   "id": "658311bd",
   "metadata": {},
   "source": [
    "# Processamento de Dados de Vendas (2022-2024)\n",
    "Este notebook é dedicado ao tratamento abrangente de dados de vendas abrangendo o período de 2022 a 2024. Sua função principal é padronizar e corrigir os dados brutos de acordo com as regras comerciais estabelecidas, garantindo a integridade e a confiabilidade do conjunto de dados."
   ]
  },
  {
   "cell_type": "code",
   "execution_count": 231,
   "id": "2fe2c0c3",
   "metadata": {},
   "outputs": [],
   "source": [
    "# Defininindo o arquivo de trabalho\n",
    "arquivo = '../data/raw/vendas_22-24.csv'"
   ]
  },
  {
   "cell_type": "code",
   "execution_count": 232,
   "id": "3f953b1f",
   "metadata": {},
   "outputs": [],
   "source": [
    "# Importação das bibliotecas utilizadas.\n",
    "import pandas as pd\n",
    "import statistics as sts"
   ]
  },
  {
   "cell_type": "code",
   "execution_count": 233,
   "id": "ecae99e3",
   "metadata": {},
   "outputs": [
    {
     "name": "stdout",
     "output_type": "stream",
     "text": [
      "<class 'pandas.core.frame.DataFrame'>\n",
      "RangeIndex: 10000 entries, 0 to 9999\n",
      "Data columns (total 9 columns):\n",
      " #   Column           Non-Null Count  Dtype  \n",
      "---  ------           --------------  -----  \n",
      " 0   Data             10000 non-null  object \n",
      " 1   Loja             9672 non-null   object \n",
      " 2   Produto          10000 non-null  object \n",
      " 3   Categoria        10000 non-null  object \n",
      " 4   Quantidade       9691 non-null   float64\n",
      " 5   Preço Unitário   9688 non-null   float64\n",
      " 6   Total Venda      7979 non-null   float64\n",
      " 7   Cliente_ID       9732 non-null   float64\n",
      " 8   Forma_Pagamento  9684 non-null   object \n",
      "dtypes: float64(4), object(5)\n",
      "memory usage: 703.3+ KB\n"
     ]
    }
   ],
   "source": [
    "# Carregamento do arquivo de dados a ser utilizado.\n",
    "dados = pd.read_csv(arquivo, delimiter=';')\n",
    "dados.info()"
   ]
  },
  {
   "cell_type": "code",
   "execution_count": 234,
   "id": "1fcc0a4b",
   "metadata": {},
   "outputs": [
    {
     "data": {
      "text/html": [
       "<div>\n",
       "<style scoped>\n",
       "    .dataframe tbody tr th:only-of-type {\n",
       "        vertical-align: middle;\n",
       "    }\n",
       "\n",
       "    .dataframe tbody tr th {\n",
       "        vertical-align: top;\n",
       "    }\n",
       "\n",
       "    .dataframe thead th {\n",
       "        text-align: right;\n",
       "    }\n",
       "</style>\n",
       "<table border=\"1\" class=\"dataframe\">\n",
       "  <thead>\n",
       "    <tr style=\"text-align: right;\">\n",
       "      <th></th>\n",
       "      <th>Data</th>\n",
       "      <th>Loja</th>\n",
       "      <th>Produto</th>\n",
       "      <th>Categoria</th>\n",
       "      <th>Quantidade</th>\n",
       "      <th>Preço Unitário</th>\n",
       "      <th>Total Venda</th>\n",
       "      <th>Cliente_ID</th>\n",
       "      <th>Forma_Pagamento</th>\n",
       "    </tr>\n",
       "  </thead>\n",
       "  <tbody>\n",
       "    <tr>\n",
       "      <th>0</th>\n",
       "      <td>2022-01-18</td>\n",
       "      <td>Loja B</td>\n",
       "      <td>Refrigerante</td>\n",
       "      <td>Bebidas</td>\n",
       "      <td>3.0</td>\n",
       "      <td>7.50</td>\n",
       "      <td>22.50</td>\n",
       "      <td>6727.0</td>\n",
       "      <td>Dinheiro</td>\n",
       "    </tr>\n",
       "    <tr>\n",
       "      <th>1</th>\n",
       "      <td>2024-12-29</td>\n",
       "      <td>Loja B</td>\n",
       "      <td>Leite</td>\n",
       "      <td>Alimentos</td>\n",
       "      <td>5.0</td>\n",
       "      <td>14.74</td>\n",
       "      <td>73.70</td>\n",
       "      <td>2120.0</td>\n",
       "      <td>Transferência</td>\n",
       "    </tr>\n",
       "    <tr>\n",
       "      <th>2</th>\n",
       "      <td>2023-03-21</td>\n",
       "      <td>Loja C</td>\n",
       "      <td>Refrigerante</td>\n",
       "      <td>Bebidas</td>\n",
       "      <td>2.0</td>\n",
       "      <td>NaN</td>\n",
       "      <td>72.60</td>\n",
       "      <td>5353.0</td>\n",
       "      <td>Transferência</td>\n",
       "    </tr>\n",
       "    <tr>\n",
       "      <th>3</th>\n",
       "      <td>2022-08-03</td>\n",
       "      <td>Loja C</td>\n",
       "      <td>Feijão</td>\n",
       "      <td>Alimentos</td>\n",
       "      <td>4.0</td>\n",
       "      <td>26.75</td>\n",
       "      <td>107.00</td>\n",
       "      <td>6835.0</td>\n",
       "      <td>Transferência</td>\n",
       "    </tr>\n",
       "    <tr>\n",
       "      <th>4</th>\n",
       "      <td>2022-06-29</td>\n",
       "      <td>Loja C</td>\n",
       "      <td>Feijão</td>\n",
       "      <td>Alimentos</td>\n",
       "      <td>7.0</td>\n",
       "      <td>30.47</td>\n",
       "      <td>213.29</td>\n",
       "      <td>5824.0</td>\n",
       "      <td>Dinheiro</td>\n",
       "    </tr>\n",
       "  </tbody>\n",
       "</table>\n",
       "</div>"
      ],
      "text/plain": [
       "         Data    Loja       Produto  Categoria  Quantidade  Preço Unitário  \\\n",
       "0  2022-01-18  Loja B  Refrigerante    Bebidas         3.0            7.50   \n",
       "1  2024-12-29  Loja B         Leite  Alimentos         5.0           14.74   \n",
       "2  2023-03-21  Loja C  Refrigerante    Bebidas         2.0             NaN   \n",
       "3  2022-08-03  Loja C        Feijão  Alimentos         4.0           26.75   \n",
       "4  2022-06-29  Loja C        Feijão  Alimentos         7.0           30.47   \n",
       "\n",
       "   Total Venda  Cliente_ID Forma_Pagamento  \n",
       "0        22.50      6727.0        Dinheiro  \n",
       "1        73.70      2120.0   Transferência  \n",
       "2        72.60      5353.0   Transferência  \n",
       "3       107.00      6835.0   Transferência  \n",
       "4       213.29      5824.0        Dinheiro  "
      ]
     },
     "execution_count": 234,
     "metadata": {},
     "output_type": "execute_result"
    }
   ],
   "source": [
    "# Verificando o padrão de colunas\n",
    "dados.head()"
   ]
  },
  {
   "cell_type": "code",
   "execution_count": 235,
   "id": "02afe0a2",
   "metadata": {},
   "outputs": [
    {
     "data": {
      "text/plain": [
       "Data                  0\n",
       "Loja                328\n",
       "Produto               0\n",
       "Categoria             0\n",
       "Quantidade          309\n",
       "Preço Unitário      312\n",
       "Total Venda        2021\n",
       "Cliente_ID          268\n",
       "Forma_Pagamento     316\n",
       "dtype: int64"
      ]
     },
     "execution_count": 235,
     "metadata": {},
     "output_type": "execute_result"
    }
   ],
   "source": [
    "# contagem de valores nulos.\n",
    "dados.isnull().sum()"
   ]
  },
  {
   "cell_type": "markdown",
   "id": "6f15f6c3",
   "metadata": {},
   "source": [
    "### Regra de negócio Loja"
   ]
  },
  {
   "cell_type": "code",
   "execution_count": 236,
   "id": "b770eb78",
   "metadata": {},
   "outputs": [
    {
     "data": {
      "text/plain": [
       "Loja\n",
       "Loja A    3238\n",
       "Loja B    3215\n",
       "Loja C    3219\n",
       "dtype: int64"
      ]
     },
     "execution_count": 236,
     "metadata": {},
     "output_type": "execute_result"
    }
   ],
   "source": [
    "# Verificação dos dados de loja\n",
    "dados.groupby('Loja').size()"
   ]
  },
  {
   "cell_type": "code",
   "execution_count": 237,
   "id": "2cdaf4d5",
   "metadata": {},
   "outputs": [],
   "source": [
    "# Preenche o valor da loja com o valor de maior recorrência\n",
    "dados.fillna({'Loja': 'Loja A'}, inplace=True)"
   ]
  },
  {
   "cell_type": "markdown",
   "id": "da049ddb",
   "metadata": {},
   "source": [
    "### Regra de negócio Quantidade"
   ]
  },
  {
   "cell_type": "code",
   "execution_count": 238,
   "id": "f51a35bf",
   "metadata": {},
   "outputs": [
    {
     "data": {
      "text/plain": [
       "Data                  0\n",
       "Loja                  0\n",
       "Produto               0\n",
       "Categoria             0\n",
       "Quantidade          309\n",
       "Preço Unitário      312\n",
       "Total Venda        2021\n",
       "Cliente_ID          268\n",
       "Forma_Pagamento     316\n",
       "dtype: int64"
      ]
     },
     "execution_count": 238,
     "metadata": {},
     "output_type": "execute_result"
    }
   ],
   "source": [
    "# Nova contagem de nulos\n",
    "dados.isnull().sum()"
   ]
  },
  {
   "cell_type": "code",
   "execution_count": 239,
   "id": "9cd1eba6",
   "metadata": {},
   "outputs": [
    {
     "data": {
      "text/plain": [
       "2.0"
      ]
     },
     "execution_count": 239,
     "metadata": {},
     "output_type": "execute_result"
    }
   ],
   "source": [
    "# Calculo da mediana para preenchimento de valores incorretos ou nulos\n",
    "medianaQtd = sts.median(dados['Quantidade'])\n",
    "medianaQtd"
   ]
  },
  {
   "cell_type": "code",
   "execution_count": 240,
   "id": "9de73f5e",
   "metadata": {},
   "outputs": [
    {
     "name": "stderr",
     "output_type": "stream",
     "text": [
      "C:\\Users\\jamsilva\\AppData\\Local\\Temp\\ipykernel_17832\\3798690500.py:2: FutureWarning: A value is trying to be set on a copy of a DataFrame or Series through chained assignment using an inplace method.\n",
      "The behavior will change in pandas 3.0. This inplace method will never work because the intermediate object on which we are setting values always behaves as a copy.\n",
      "\n",
      "For example, when doing 'df[col].method(value, inplace=True)', try using 'df.method({col: value}, inplace=True)' or df[col] = df[col].method(value) instead, to perform the operation inplace on the original object.\n",
      "\n",
      "\n",
      "  dados['Quantidade'].fillna(medianaQtd, inplace=True)\n"
     ]
    }
   ],
   "source": [
    "# Preenchimento de valores nulos\n",
    "dados['Quantidade'].fillna(medianaQtd, inplace=True)"
   ]
  },
  {
   "cell_type": "code",
   "execution_count": 241,
   "id": "89e883a4",
   "metadata": {},
   "outputs": [
    {
     "data": {
      "text/html": [
       "<div>\n",
       "<style scoped>\n",
       "    .dataframe tbody tr th:only-of-type {\n",
       "        vertical-align: middle;\n",
       "    }\n",
       "\n",
       "    .dataframe tbody tr th {\n",
       "        vertical-align: top;\n",
       "    }\n",
       "\n",
       "    .dataframe thead th {\n",
       "        text-align: right;\n",
       "    }\n",
       "</style>\n",
       "<table border=\"1\" class=\"dataframe\">\n",
       "  <thead>\n",
       "    <tr style=\"text-align: right;\">\n",
       "      <th></th>\n",
       "      <th>Data</th>\n",
       "      <th>Loja</th>\n",
       "      <th>Produto</th>\n",
       "      <th>Categoria</th>\n",
       "      <th>Quantidade</th>\n",
       "      <th>Preço Unitário</th>\n",
       "      <th>Total Venda</th>\n",
       "      <th>Cliente_ID</th>\n",
       "      <th>Forma_Pagamento</th>\n",
       "    </tr>\n",
       "  </thead>\n",
       "  <tbody>\n",
       "    <tr>\n",
       "      <th>11</th>\n",
       "      <td>2024-10-26</td>\n",
       "      <td>Loja A</td>\n",
       "      <td>Refrigerante</td>\n",
       "      <td>Bebidas</td>\n",
       "      <td>-4.0</td>\n",
       "      <td>16.74</td>\n",
       "      <td>NaN</td>\n",
       "      <td>5087.0</td>\n",
       "      <td>Cartão</td>\n",
       "    </tr>\n",
       "    <tr>\n",
       "      <th>67</th>\n",
       "      <td>2024-05-27</td>\n",
       "      <td>Loja C</td>\n",
       "      <td>Detergente</td>\n",
       "      <td>Limpeza</td>\n",
       "      <td>-5.0</td>\n",
       "      <td>13.36</td>\n",
       "      <td>NaN</td>\n",
       "      <td>8280.0</td>\n",
       "      <td>Dinheiro</td>\n",
       "    </tr>\n",
       "    <tr>\n",
       "      <th>77</th>\n",
       "      <td>2024-07-26</td>\n",
       "      <td>Loja B</td>\n",
       "      <td>Detergente</td>\n",
       "      <td>Limpeza</td>\n",
       "      <td>-4.0</td>\n",
       "      <td>32.10</td>\n",
       "      <td>NaN</td>\n",
       "      <td>8789.0</td>\n",
       "      <td>Pix</td>\n",
       "    </tr>\n",
       "    <tr>\n",
       "      <th>166</th>\n",
       "      <td>2024-02-29</td>\n",
       "      <td>Loja B</td>\n",
       "      <td>Refrigerante</td>\n",
       "      <td>Bebidas</td>\n",
       "      <td>-1.0</td>\n",
       "      <td>42.32</td>\n",
       "      <td>NaN</td>\n",
       "      <td>1634.0</td>\n",
       "      <td>Pix</td>\n",
       "    </tr>\n",
       "    <tr>\n",
       "      <th>179</th>\n",
       "      <td>2024-06-13</td>\n",
       "      <td>Loja A</td>\n",
       "      <td>Detergente</td>\n",
       "      <td>Limpeza</td>\n",
       "      <td>-5.0</td>\n",
       "      <td>42.95</td>\n",
       "      <td>NaN</td>\n",
       "      <td>2761.0</td>\n",
       "      <td>Cartão</td>\n",
       "    </tr>\n",
       "    <tr>\n",
       "      <th>...</th>\n",
       "      <td>...</td>\n",
       "      <td>...</td>\n",
       "      <td>...</td>\n",
       "      <td>...</td>\n",
       "      <td>...</td>\n",
       "      <td>...</td>\n",
       "      <td>...</td>\n",
       "      <td>...</td>\n",
       "      <td>...</td>\n",
       "    </tr>\n",
       "    <tr>\n",
       "      <th>9867</th>\n",
       "      <td>2024-01-08</td>\n",
       "      <td>Loja C</td>\n",
       "      <td>Açúcar</td>\n",
       "      <td>Alimentos</td>\n",
       "      <td>-4.0</td>\n",
       "      <td>44.72</td>\n",
       "      <td>NaN</td>\n",
       "      <td>9766.0</td>\n",
       "      <td>Cartão</td>\n",
       "    </tr>\n",
       "    <tr>\n",
       "      <th>9873</th>\n",
       "      <td>2023-12-31</td>\n",
       "      <td>Loja C</td>\n",
       "      <td>Pasta de Dente</td>\n",
       "      <td>Higiene</td>\n",
       "      <td>-1.0</td>\n",
       "      <td>28.69</td>\n",
       "      <td>NaN</td>\n",
       "      <td>8971.0</td>\n",
       "      <td>Dinheiro</td>\n",
       "    </tr>\n",
       "    <tr>\n",
       "      <th>9888</th>\n",
       "      <td>2024-06-15</td>\n",
       "      <td>Loja B</td>\n",
       "      <td>Shampoo</td>\n",
       "      <td>Higiene</td>\n",
       "      <td>-2.0</td>\n",
       "      <td>24.56</td>\n",
       "      <td>NaN</td>\n",
       "      <td>3315.0</td>\n",
       "      <td>Cartão</td>\n",
       "    </tr>\n",
       "    <tr>\n",
       "      <th>9985</th>\n",
       "      <td>2022-08-10</td>\n",
       "      <td>Loja A</td>\n",
       "      <td>Refrigerante</td>\n",
       "      <td>Bebidas</td>\n",
       "      <td>-5.0</td>\n",
       "      <td>7.88</td>\n",
       "      <td>NaN</td>\n",
       "      <td>7589.0</td>\n",
       "      <td>Cartão</td>\n",
       "    </tr>\n",
       "    <tr>\n",
       "      <th>9987</th>\n",
       "      <td>2022-08-21</td>\n",
       "      <td>Loja C</td>\n",
       "      <td>Refrigerante</td>\n",
       "      <td>Bebidas</td>\n",
       "      <td>-1.0</td>\n",
       "      <td>43.05</td>\n",
       "      <td>NaN</td>\n",
       "      <td>7156.0</td>\n",
       "      <td>Transferência</td>\n",
       "    </tr>\n",
       "  </tbody>\n",
       "</table>\n",
       "<p>367 rows × 9 columns</p>\n",
       "</div>"
      ],
      "text/plain": [
       "            Data    Loja         Produto  Categoria  Quantidade  \\\n",
       "11    2024-10-26  Loja A    Refrigerante    Bebidas        -4.0   \n",
       "67    2024-05-27  Loja C      Detergente    Limpeza        -5.0   \n",
       "77    2024-07-26  Loja B      Detergente    Limpeza        -4.0   \n",
       "166   2024-02-29  Loja B    Refrigerante    Bebidas        -1.0   \n",
       "179   2024-06-13  Loja A      Detergente    Limpeza        -5.0   \n",
       "...          ...     ...             ...        ...         ...   \n",
       "9867  2024-01-08  Loja C          Açúcar  Alimentos        -4.0   \n",
       "9873  2023-12-31  Loja C  Pasta de Dente    Higiene        -1.0   \n",
       "9888  2024-06-15  Loja B         Shampoo    Higiene        -2.0   \n",
       "9985  2022-08-10  Loja A    Refrigerante    Bebidas        -5.0   \n",
       "9987  2022-08-21  Loja C    Refrigerante    Bebidas        -1.0   \n",
       "\n",
       "      Preço Unitário  Total Venda  Cliente_ID Forma_Pagamento  \n",
       "11             16.74          NaN      5087.0          Cartão  \n",
       "67             13.36          NaN      8280.0        Dinheiro  \n",
       "77             32.10          NaN      8789.0             Pix  \n",
       "166            42.32          NaN      1634.0             Pix  \n",
       "179            42.95          NaN      2761.0          Cartão  \n",
       "...              ...          ...         ...             ...  \n",
       "9867           44.72          NaN      9766.0          Cartão  \n",
       "9873           28.69          NaN      8971.0        Dinheiro  \n",
       "9888           24.56          NaN      3315.0          Cartão  \n",
       "9985            7.88          NaN      7589.0          Cartão  \n",
       "9987           43.05          NaN      7156.0   Transferência  \n",
       "\n",
       "[367 rows x 9 columns]"
      ]
     },
     "execution_count": 241,
     "metadata": {},
     "output_type": "execute_result"
    }
   ],
   "source": [
    "# Filtro de valores fora da regra de negócio\n",
    "dados.loc[(dados['Quantidade'] < 1) | (dados['Quantidade'] > 100)]"
   ]
  },
  {
   "cell_type": "code",
   "execution_count": 242,
   "id": "f3c1d9a1",
   "metadata": {},
   "outputs": [],
   "source": [
    "# Correção de valores incorretos com base na regra de negócio\n",
    "dados.loc[(dados['Quantidade'] < 1) | (dados['Quantidade'] > 100)] = medianaQtd"
   ]
  },
  {
   "cell_type": "code",
   "execution_count": 243,
   "id": "1bcdae65",
   "metadata": {},
   "outputs": [
    {
     "data": {
      "text/html": [
       "<div>\n",
       "<style scoped>\n",
       "    .dataframe tbody tr th:only-of-type {\n",
       "        vertical-align: middle;\n",
       "    }\n",
       "\n",
       "    .dataframe tbody tr th {\n",
       "        vertical-align: top;\n",
       "    }\n",
       "\n",
       "    .dataframe thead th {\n",
       "        text-align: right;\n",
       "    }\n",
       "</style>\n",
       "<table border=\"1\" class=\"dataframe\">\n",
       "  <thead>\n",
       "    <tr style=\"text-align: right;\">\n",
       "      <th></th>\n",
       "      <th>Data</th>\n",
       "      <th>Loja</th>\n",
       "      <th>Produto</th>\n",
       "      <th>Categoria</th>\n",
       "      <th>Quantidade</th>\n",
       "      <th>Preço Unitário</th>\n",
       "      <th>Total Venda</th>\n",
       "      <th>Cliente_ID</th>\n",
       "      <th>Forma_Pagamento</th>\n",
       "    </tr>\n",
       "  </thead>\n",
       "  <tbody>\n",
       "  </tbody>\n",
       "</table>\n",
       "</div>"
      ],
      "text/plain": [
       "Empty DataFrame\n",
       "Columns: [Data, Loja, Produto, Categoria, Quantidade, Preço Unitário, Total Venda, Cliente_ID, Forma_Pagamento]\n",
       "Index: []"
      ]
     },
     "execution_count": 243,
     "metadata": {},
     "output_type": "execute_result"
    }
   ],
   "source": [
    "# Nova verificação de valores fora da regra\n",
    "dados.loc[(dados['Quantidade'] < 1) | (dados['Quantidade'] > 100)]"
   ]
  },
  {
   "cell_type": "code",
   "execution_count": 244,
   "id": "d903fdbc",
   "metadata": {},
   "outputs": [
    {
     "name": "stdout",
     "output_type": "stream",
     "text": [
      "<class 'pandas.core.frame.DataFrame'>\n",
      "RangeIndex: 10000 entries, 0 to 9999\n",
      "Data columns (total 9 columns):\n",
      " #   Column           Non-Null Count  Dtype  \n",
      "---  ------           --------------  -----  \n",
      " 0   Data             10000 non-null  object \n",
      " 1   Loja             10000 non-null  object \n",
      " 2   Produto          10000 non-null  object \n",
      " 3   Categoria        10000 non-null  object \n",
      " 4   Quantidade       10000 non-null  float64\n",
      " 5   Preço Unitário   9697 non-null   float64\n",
      " 6   Total Venda      8346 non-null   float64\n",
      " 7   Cliente_ID       9740 non-null   float64\n",
      " 8   Forma_Pagamento  9696 non-null   object \n",
      "dtypes: float64(4), object(5)\n",
      "memory usage: 703.3+ KB\n"
     ]
    }
   ],
   "source": [
    "# Contagem de nulos\n",
    "dados.info()"
   ]
  },
  {
   "cell_type": "markdown",
   "id": "8d323a64",
   "metadata": {},
   "source": [
    "### Regra de negócio Preço"
   ]
  },
  {
   "cell_type": "code",
   "execution_count": 251,
   "id": "8ed923d9",
   "metadata": {},
   "outputs": [
    {
     "data": {
      "text/plain": [
       "np.float64(22.41667216664948)"
      ]
     },
     "execution_count": 251,
     "metadata": {},
     "output_type": "execute_result"
    }
   ],
   "source": [
    "mediaPreco = dados['Preço Unitário'].mean()\n",
    "mediaPreco"
   ]
  },
  {
   "cell_type": "code",
   "execution_count": 250,
   "id": "811ed6db",
   "metadata": {},
   "outputs": [
    {
     "data": {
      "text/html": [
       "<div>\n",
       "<style scoped>\n",
       "    .dataframe tbody tr th:only-of-type {\n",
       "        vertical-align: middle;\n",
       "    }\n",
       "\n",
       "    .dataframe tbody tr th {\n",
       "        vertical-align: top;\n",
       "    }\n",
       "\n",
       "    .dataframe thead th {\n",
       "        text-align: right;\n",
       "    }\n",
       "</style>\n",
       "<table border=\"1\" class=\"dataframe\">\n",
       "  <thead>\n",
       "    <tr style=\"text-align: right;\">\n",
       "      <th></th>\n",
       "      <th>Data</th>\n",
       "      <th>Loja</th>\n",
       "      <th>Produto</th>\n",
       "      <th>Categoria</th>\n",
       "      <th>Quantidade</th>\n",
       "      <th>Preço Unitário</th>\n",
       "      <th>Total Venda</th>\n",
       "      <th>Cliente_ID</th>\n",
       "      <th>Forma_Pagamento</th>\n",
       "    </tr>\n",
       "  </thead>\n",
       "  <tbody>\n",
       "    <tr>\n",
       "      <th>27</th>\n",
       "      <td>2023-01-20</td>\n",
       "      <td>Loja A</td>\n",
       "      <td>Cerveja</td>\n",
       "      <td>Bebidas</td>\n",
       "      <td>9.0</td>\n",
       "      <td>-10.14</td>\n",
       "      <td>NaN</td>\n",
       "      <td>2471.0</td>\n",
       "      <td>Transferência</td>\n",
       "    </tr>\n",
       "    <tr>\n",
       "      <th>31</th>\n",
       "      <td>2023-12-09</td>\n",
       "      <td>Loja C</td>\n",
       "      <td>Pasta de Dente</td>\n",
       "      <td>Higiene</td>\n",
       "      <td>9.0</td>\n",
       "      <td>-41.96</td>\n",
       "      <td>NaN</td>\n",
       "      <td>8619.0</td>\n",
       "      <td>Cartão</td>\n",
       "    </tr>\n",
       "    <tr>\n",
       "      <th>57</th>\n",
       "      <td>2024-05-26</td>\n",
       "      <td>Loja A</td>\n",
       "      <td>Refrigerante</td>\n",
       "      <td>Bebidas</td>\n",
       "      <td>5.0</td>\n",
       "      <td>-3.20</td>\n",
       "      <td>NaN</td>\n",
       "      <td>1567.0</td>\n",
       "      <td>Dinheiro</td>\n",
       "    </tr>\n",
       "    <tr>\n",
       "      <th>91</th>\n",
       "      <td>2023-07-13</td>\n",
       "      <td>Loja B</td>\n",
       "      <td>Leite</td>\n",
       "      <td>Alimentos</td>\n",
       "      <td>2.0</td>\n",
       "      <td>-18.86</td>\n",
       "      <td>NaN</td>\n",
       "      <td>6228.0</td>\n",
       "      <td>Dinheiro</td>\n",
       "    </tr>\n",
       "    <tr>\n",
       "      <th>96</th>\n",
       "      <td>2024-01-17</td>\n",
       "      <td>Loja A</td>\n",
       "      <td>Feijão</td>\n",
       "      <td>Alimentos</td>\n",
       "      <td>3.0</td>\n",
       "      <td>-12.44</td>\n",
       "      <td>NaN</td>\n",
       "      <td>4016.0</td>\n",
       "      <td>Pix</td>\n",
       "    </tr>\n",
       "    <tr>\n",
       "      <th>...</th>\n",
       "      <td>...</td>\n",
       "      <td>...</td>\n",
       "      <td>...</td>\n",
       "      <td>...</td>\n",
       "      <td>...</td>\n",
       "      <td>...</td>\n",
       "      <td>...</td>\n",
       "      <td>...</td>\n",
       "      <td>...</td>\n",
       "    </tr>\n",
       "    <tr>\n",
       "      <th>9830</th>\n",
       "      <td>2024-06-13</td>\n",
       "      <td>Loja A</td>\n",
       "      <td>Detergente</td>\n",
       "      <td>Limpeza</td>\n",
       "      <td>4.0</td>\n",
       "      <td>-37.82</td>\n",
       "      <td>NaN</td>\n",
       "      <td>2850.0</td>\n",
       "      <td>Pix</td>\n",
       "    </tr>\n",
       "    <tr>\n",
       "      <th>9906</th>\n",
       "      <td>2024-07-19</td>\n",
       "      <td>Loja B</td>\n",
       "      <td>Arroz</td>\n",
       "      <td>Alimentos</td>\n",
       "      <td>6.0</td>\n",
       "      <td>-33.67</td>\n",
       "      <td>NaN</td>\n",
       "      <td>3402.0</td>\n",
       "      <td>Pix</td>\n",
       "    </tr>\n",
       "    <tr>\n",
       "      <th>9956</th>\n",
       "      <td>2023-03-27</td>\n",
       "      <td>Loja A</td>\n",
       "      <td>Cerveja</td>\n",
       "      <td>Bebidas</td>\n",
       "      <td>1.0</td>\n",
       "      <td>-15.65</td>\n",
       "      <td>NaN</td>\n",
       "      <td>1950.0</td>\n",
       "      <td>Cartão</td>\n",
       "    </tr>\n",
       "    <tr>\n",
       "      <th>9966</th>\n",
       "      <td>2022-07-18</td>\n",
       "      <td>Loja C</td>\n",
       "      <td>Sabão em Pó</td>\n",
       "      <td>Limpeza</td>\n",
       "      <td>6.0</td>\n",
       "      <td>-20.57</td>\n",
       "      <td>NaN</td>\n",
       "      <td>9116.0</td>\n",
       "      <td>Transferência</td>\n",
       "    </tr>\n",
       "    <tr>\n",
       "      <th>9995</th>\n",
       "      <td>2022-02-04</td>\n",
       "      <td>Loja B</td>\n",
       "      <td>Sabão em Pó</td>\n",
       "      <td>Limpeza</td>\n",
       "      <td>10.0</td>\n",
       "      <td>-29.80</td>\n",
       "      <td>NaN</td>\n",
       "      <td>5088.0</td>\n",
       "      <td>Pix</td>\n",
       "    </tr>\n",
       "  </tbody>\n",
       "</table>\n",
       "<p>467 rows × 9 columns</p>\n",
       "</div>"
      ],
      "text/plain": [
       "            Data    Loja         Produto  Categoria  Quantidade  \\\n",
       "27    2023-01-20  Loja A         Cerveja    Bebidas         9.0   \n",
       "31    2023-12-09  Loja C  Pasta de Dente    Higiene         9.0   \n",
       "57    2024-05-26  Loja A    Refrigerante    Bebidas         5.0   \n",
       "91    2023-07-13  Loja B           Leite  Alimentos         2.0   \n",
       "96    2024-01-17  Loja A          Feijão  Alimentos         3.0   \n",
       "...          ...     ...             ...        ...         ...   \n",
       "9830  2024-06-13  Loja A      Detergente    Limpeza         4.0   \n",
       "9906  2024-07-19  Loja B           Arroz  Alimentos         6.0   \n",
       "9956  2023-03-27  Loja A         Cerveja    Bebidas         1.0   \n",
       "9966  2022-07-18  Loja C     Sabão em Pó    Limpeza         6.0   \n",
       "9995  2022-02-04  Loja B     Sabão em Pó    Limpeza        10.0   \n",
       "\n",
       "      Preço Unitário  Total Venda  Cliente_ID Forma_Pagamento  \n",
       "27            -10.14          NaN      2471.0   Transferência  \n",
       "31            -41.96          NaN      8619.0          Cartão  \n",
       "57             -3.20          NaN      1567.0        Dinheiro  \n",
       "91            -18.86          NaN      6228.0        Dinheiro  \n",
       "96            -12.44          NaN      4016.0             Pix  \n",
       "...              ...          ...         ...             ...  \n",
       "9830          -37.82          NaN      2850.0             Pix  \n",
       "9906          -33.67          NaN      3402.0             Pix  \n",
       "9956          -15.65          NaN      1950.0          Cartão  \n",
       "9966          -20.57          NaN      9116.0   Transferência  \n",
       "9995          -29.80          NaN      5088.0             Pix  \n",
       "\n",
       "[467 rows x 9 columns]"
      ]
     },
     "execution_count": 250,
     "metadata": {},
     "output_type": "execute_result"
    }
   ],
   "source": [
    "dados.loc[(dados['Preço Unitário'] < 0.50) | (dados['Preço Unitário'] > 500.0)]"
   ]
  },
  {
   "cell_type": "code",
   "execution_count": 252,
   "id": "fb275883",
   "metadata": {},
   "outputs": [
    {
     "name": "stderr",
     "output_type": "stream",
     "text": [
      "C:\\Users\\jamsilva\\AppData\\Local\\Temp\\ipykernel_17832\\1929562576.py:1: FutureWarning: A value is trying to be set on a copy of a DataFrame or Series through chained assignment using an inplace method.\n",
      "The behavior will change in pandas 3.0. This inplace method will never work because the intermediate object on which we are setting values always behaves as a copy.\n",
      "\n",
      "For example, when doing 'df[col].method(value, inplace=True)', try using 'df.method({col: value}, inplace=True)' or df[col] = df[col].method(value) instead, to perform the operation inplace on the original object.\n",
      "\n",
      "\n",
      "  dados['Preço Unitário'].fillna(mediaPreco, inplace=True)\n"
     ]
    }
   ],
   "source": [
    "dados['Preço Unitário'].fillna(mediaPreco, inplace=True)\n",
    "dados.loc[(dados['Preço Unitário'] < 0.50) | (dados['Preço Unitário'] > 500.0)] = mediaPreco"
   ]
  },
  {
   "cell_type": "code",
   "execution_count": 254,
   "id": "bcd9cbdc",
   "metadata": {},
   "outputs": [
    {
     "data": {
      "text/plain": [
       "count    10000.000000\n",
       "mean        24.661652\n",
       "std         13.959734\n",
       "min          1.500000\n",
       "25%         13.157500\n",
       "50%         22.595000\n",
       "75%         36.330000\n",
       "max         50.000000\n",
       "Name: Preço Unitário, dtype: float64"
      ]
     },
     "execution_count": 254,
     "metadata": {},
     "output_type": "execute_result"
    }
   ],
   "source": [
    "dados['Preço Unitário'].describe()"
   ]
  }
 ],
 "metadata": {
  "kernelspec": {
   "display_name": "Python 3",
   "language": "python",
   "name": "python3"
  },
  "language_info": {
   "codemirror_mode": {
    "name": "ipython",
    "version": 3
   },
   "file_extension": ".py",
   "mimetype": "text/x-python",
   "name": "python",
   "nbconvert_exporter": "python",
   "pygments_lexer": "ipython3",
   "version": "3.13.5"
  }
 },
 "nbformat": 4,
 "nbformat_minor": 5
}
