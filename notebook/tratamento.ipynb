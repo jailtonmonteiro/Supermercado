{
 "cells": [
  {
   "cell_type": "markdown",
   "id": "658311bd",
   "metadata": {},
   "source": [
    "# Processamento de Dados de Vendas (2022-2024)\n",
    "Este notebook é dedicado ao tratamento abrangente de dados de vendas abrangendo o período de 2022 a 2024. Sua função principal é padronizar e corrigir os dados brutos de acordo com as regras comerciais estabelecidas, garantindo a integridade e a confiabilidade do conjunto de dados."
   ]
  },
  {
   "cell_type": "code",
   "execution_count": 436,
   "id": "2fe2c0c3",
   "metadata": {},
   "outputs": [],
   "source": [
    "# Defininindo o arquivo de trabalho\n",
    "arquivo = '../data/raw/vendas_22-24.csv'"
   ]
  },
  {
   "cell_type": "code",
   "execution_count": 437,
   "id": "3f953b1f",
   "metadata": {},
   "outputs": [],
   "source": [
    "# Importação das bibliotecas utilizadas.\n",
    "import pandas as pd\n",
    "import statistics as sts"
   ]
  },
  {
   "cell_type": "code",
   "execution_count": 438,
   "id": "ecae99e3",
   "metadata": {},
   "outputs": [
    {
     "name": "stdout",
     "output_type": "stream",
     "text": [
      "<class 'pandas.core.frame.DataFrame'>\n",
      "RangeIndex: 10000 entries, 0 to 9999\n",
      "Data columns (total 9 columns):\n",
      " #   Column           Non-Null Count  Dtype  \n",
      "---  ------           --------------  -----  \n",
      " 0   Data             10000 non-null  object \n",
      " 1   Loja             9672 non-null   object \n",
      " 2   Produto          10000 non-null  object \n",
      " 3   Categoria        10000 non-null  object \n",
      " 4   Quantidade       9691 non-null   float64\n",
      " 5   Preço Unitário   9688 non-null   float64\n",
      " 6   Total Venda      7979 non-null   float64\n",
      " 7   Cliente_ID       9732 non-null   float64\n",
      " 8   Forma_Pagamento  9684 non-null   object \n",
      "dtypes: float64(4), object(5)\n",
      "memory usage: 703.3+ KB\n"
     ]
    }
   ],
   "source": [
    "# Carregamento do arquivo de dados a ser utilizado.\n",
    "dados = pd.read_csv(arquivo, delimiter=';')\n",
    "dados.info()"
   ]
  },
  {
   "cell_type": "code",
   "execution_count": 439,
   "id": "1fcc0a4b",
   "metadata": {},
   "outputs": [
    {
     "data": {
      "text/html": [
       "<div>\n",
       "<style scoped>\n",
       "    .dataframe tbody tr th:only-of-type {\n",
       "        vertical-align: middle;\n",
       "    }\n",
       "\n",
       "    .dataframe tbody tr th {\n",
       "        vertical-align: top;\n",
       "    }\n",
       "\n",
       "    .dataframe thead th {\n",
       "        text-align: right;\n",
       "    }\n",
       "</style>\n",
       "<table border=\"1\" class=\"dataframe\">\n",
       "  <thead>\n",
       "    <tr style=\"text-align: right;\">\n",
       "      <th></th>\n",
       "      <th>Data</th>\n",
       "      <th>Loja</th>\n",
       "      <th>Produto</th>\n",
       "      <th>Categoria</th>\n",
       "      <th>Quantidade</th>\n",
       "      <th>Preço Unitário</th>\n",
       "      <th>Total Venda</th>\n",
       "      <th>Cliente_ID</th>\n",
       "      <th>Forma_Pagamento</th>\n",
       "    </tr>\n",
       "  </thead>\n",
       "  <tbody>\n",
       "    <tr>\n",
       "      <th>0</th>\n",
       "      <td>2022-01-18</td>\n",
       "      <td>Loja B</td>\n",
       "      <td>Refrigerante</td>\n",
       "      <td>Bebidas</td>\n",
       "      <td>3.0</td>\n",
       "      <td>7.50</td>\n",
       "      <td>22.50</td>\n",
       "      <td>6727.0</td>\n",
       "      <td>Dinheiro</td>\n",
       "    </tr>\n",
       "    <tr>\n",
       "      <th>1</th>\n",
       "      <td>2024-12-29</td>\n",
       "      <td>Loja B</td>\n",
       "      <td>Leite</td>\n",
       "      <td>Alimentos</td>\n",
       "      <td>5.0</td>\n",
       "      <td>14.74</td>\n",
       "      <td>73.70</td>\n",
       "      <td>2120.0</td>\n",
       "      <td>Transferência</td>\n",
       "    </tr>\n",
       "    <tr>\n",
       "      <th>2</th>\n",
       "      <td>2023-03-21</td>\n",
       "      <td>Loja C</td>\n",
       "      <td>Refrigerante</td>\n",
       "      <td>Bebidas</td>\n",
       "      <td>2.0</td>\n",
       "      <td>NaN</td>\n",
       "      <td>72.60</td>\n",
       "      <td>5353.0</td>\n",
       "      <td>Transferência</td>\n",
       "    </tr>\n",
       "    <tr>\n",
       "      <th>3</th>\n",
       "      <td>2022-08-03</td>\n",
       "      <td>Loja C</td>\n",
       "      <td>Feijão</td>\n",
       "      <td>Alimentos</td>\n",
       "      <td>4.0</td>\n",
       "      <td>26.75</td>\n",
       "      <td>107.00</td>\n",
       "      <td>6835.0</td>\n",
       "      <td>Transferência</td>\n",
       "    </tr>\n",
       "    <tr>\n",
       "      <th>4</th>\n",
       "      <td>2022-06-29</td>\n",
       "      <td>Loja C</td>\n",
       "      <td>Feijão</td>\n",
       "      <td>Alimentos</td>\n",
       "      <td>7.0</td>\n",
       "      <td>30.47</td>\n",
       "      <td>213.29</td>\n",
       "      <td>5824.0</td>\n",
       "      <td>Dinheiro</td>\n",
       "    </tr>\n",
       "  </tbody>\n",
       "</table>\n",
       "</div>"
      ],
      "text/plain": [
       "         Data    Loja       Produto  Categoria  Quantidade  Preço Unitário  \\\n",
       "0  2022-01-18  Loja B  Refrigerante    Bebidas         3.0            7.50   \n",
       "1  2024-12-29  Loja B         Leite  Alimentos         5.0           14.74   \n",
       "2  2023-03-21  Loja C  Refrigerante    Bebidas         2.0             NaN   \n",
       "3  2022-08-03  Loja C        Feijão  Alimentos         4.0           26.75   \n",
       "4  2022-06-29  Loja C        Feijão  Alimentos         7.0           30.47   \n",
       "\n",
       "   Total Venda  Cliente_ID Forma_Pagamento  \n",
       "0        22.50      6727.0        Dinheiro  \n",
       "1        73.70      2120.0   Transferência  \n",
       "2        72.60      5353.0   Transferência  \n",
       "3       107.00      6835.0   Transferência  \n",
       "4       213.29      5824.0        Dinheiro  "
      ]
     },
     "execution_count": 439,
     "metadata": {},
     "output_type": "execute_result"
    }
   ],
   "source": [
    "# Verificando o padrão de colunas\n",
    "dados.head()"
   ]
  },
  {
   "cell_type": "code",
   "execution_count": 440,
   "id": "02afe0a2",
   "metadata": {},
   "outputs": [
    {
     "data": {
      "text/plain": [
       "Data                  0\n",
       "Loja                328\n",
       "Produto               0\n",
       "Categoria             0\n",
       "Quantidade          309\n",
       "Preço Unitário      312\n",
       "Total Venda        2021\n",
       "Cliente_ID          268\n",
       "Forma_Pagamento     316\n",
       "dtype: int64"
      ]
     },
     "execution_count": 440,
     "metadata": {},
     "output_type": "execute_result"
    }
   ],
   "source": [
    "# contagem de valores nulos.\n",
    "dados.isnull().sum()"
   ]
  },
  {
   "cell_type": "markdown",
   "id": "6f15f6c3",
   "metadata": {},
   "source": [
    "### Regra de negócio Loja"
   ]
  },
  {
   "cell_type": "code",
   "execution_count": 441,
   "id": "b770eb78",
   "metadata": {},
   "outputs": [
    {
     "data": {
      "text/plain": [
       "Loja\n",
       "Loja A    3238\n",
       "Loja B    3215\n",
       "Loja C    3219\n",
       "dtype: int64"
      ]
     },
     "execution_count": 441,
     "metadata": {},
     "output_type": "execute_result"
    }
   ],
   "source": [
    "# Verificação dos dados de loja\n",
    "dados.groupby('Loja').size()"
   ]
  },
  {
   "cell_type": "code",
   "execution_count": 442,
   "id": "2cdaf4d5",
   "metadata": {},
   "outputs": [],
   "source": [
    "# Preenche o valor da loja com o valor de maior recorrência\n",
    "dados.fillna({'Loja': 'Loja A'}, inplace=True)"
   ]
  },
  {
   "cell_type": "markdown",
   "id": "08f2d597",
   "metadata": {},
   "source": [
    "### Regra de negócio Cliente"
   ]
  },
  {
   "cell_type": "code",
   "execution_count": 443,
   "id": "157d83a6",
   "metadata": {},
   "outputs": [
    {
     "data": {
      "text/plain": [
       "np.int64(268)"
      ]
     },
     "execution_count": 443,
     "metadata": {},
     "output_type": "execute_result"
    }
   ],
   "source": [
    "dados['Cliente_ID'].isnull().sum()"
   ]
  },
  {
   "cell_type": "code",
   "execution_count": 444,
   "id": "8ae2f1c8",
   "metadata": {},
   "outputs": [
    {
     "name": "stderr",
     "output_type": "stream",
     "text": [
      "C:\\Users\\jamsilva\\AppData\\Local\\Temp\\ipykernel_20240\\510108161.py:1: FutureWarning: ChainedAssignmentError: behaviour will change in pandas 3.0!\n",
      "You are setting values through chained assignment. Currently this works in certain cases, but when using Copy-on-Write (which will become the default behaviour in pandas 3.0) this will never work to update the original DataFrame or Series, because the intermediate object on which we are setting values will behave as a copy.\n",
      "A typical example is when you are setting values in a column of a DataFrame, like:\n",
      "\n",
      "df[\"col\"][row_indexer] = value\n",
      "\n",
      "Use `df.loc[row_indexer, \"col\"] = values` instead, to perform the assignment in a single step and ensure this keeps updating the original `df`.\n",
      "\n",
      "See the caveats in the documentation: https://pandas.pydata.org/pandas-docs/stable/user_guide/indexing.html#returning-a-view-versus-a-copy\n",
      "\n",
      "  dados['Cliente_ID'].loc[dados['Cliente_ID'].isnull()] = 0000\n",
      "C:\\Users\\jamsilva\\AppData\\Local\\Temp\\ipykernel_20240\\510108161.py:1: SettingWithCopyWarning: \n",
      "A value is trying to be set on a copy of a slice from a DataFrame\n",
      "\n",
      "See the caveats in the documentation: https://pandas.pydata.org/pandas-docs/stable/user_guide/indexing.html#returning-a-view-versus-a-copy\n",
      "  dados['Cliente_ID'].loc[dados['Cliente_ID'].isnull()] = 0000\n"
     ]
    }
   ],
   "source": [
    "dados['Cliente_ID'].loc[dados['Cliente_ID'].isnull()] = 0000"
   ]
  },
  {
   "cell_type": "code",
   "execution_count": 445,
   "id": "96b28126",
   "metadata": {},
   "outputs": [
    {
     "data": {
      "text/plain": [
       "np.int64(0)"
      ]
     },
     "execution_count": 445,
     "metadata": {},
     "output_type": "execute_result"
    }
   ],
   "source": [
    "dados['Cliente_ID'].isnull().sum()"
   ]
  },
  {
   "cell_type": "markdown",
   "id": "da049ddb",
   "metadata": {},
   "source": [
    "### Regra de negócio Quantidade"
   ]
  },
  {
   "cell_type": "code",
   "execution_count": 446,
   "id": "f51a35bf",
   "metadata": {},
   "outputs": [
    {
     "data": {
      "text/plain": [
       "Data                  0\n",
       "Loja                  0\n",
       "Produto               0\n",
       "Categoria             0\n",
       "Quantidade          309\n",
       "Preço Unitário      312\n",
       "Total Venda        2021\n",
       "Cliente_ID            0\n",
       "Forma_Pagamento     316\n",
       "dtype: int64"
      ]
     },
     "execution_count": 446,
     "metadata": {},
     "output_type": "execute_result"
    }
   ],
   "source": [
    "# Nova contagem de nulos\n",
    "dados.isnull().sum()"
   ]
  },
  {
   "cell_type": "code",
   "execution_count": 447,
   "id": "9cd1eba6",
   "metadata": {},
   "outputs": [
    {
     "data": {
      "text/plain": [
       "2.0"
      ]
     },
     "execution_count": 447,
     "metadata": {},
     "output_type": "execute_result"
    }
   ],
   "source": [
    "# Calculo da mediana para preenchimento de valores incorretos ou nulos\n",
    "medianaQtd = sts.median(dados['Quantidade'])\n",
    "medianaQtd"
   ]
  },
  {
   "cell_type": "code",
   "execution_count": 448,
   "id": "9de73f5e",
   "metadata": {},
   "outputs": [
    {
     "name": "stderr",
     "output_type": "stream",
     "text": [
      "C:\\Users\\jamsilva\\AppData\\Local\\Temp\\ipykernel_20240\\3798690500.py:2: FutureWarning: A value is trying to be set on a copy of a DataFrame or Series through chained assignment using an inplace method.\n",
      "The behavior will change in pandas 3.0. This inplace method will never work because the intermediate object on which we are setting values always behaves as a copy.\n",
      "\n",
      "For example, when doing 'df[col].method(value, inplace=True)', try using 'df.method({col: value}, inplace=True)' or df[col] = df[col].method(value) instead, to perform the operation inplace on the original object.\n",
      "\n",
      "\n",
      "  dados['Quantidade'].fillna(medianaQtd, inplace=True)\n"
     ]
    }
   ],
   "source": [
    "# Preenchimento de valores nulos\n",
    "dados['Quantidade'].fillna(medianaQtd, inplace=True)"
   ]
  },
  {
   "cell_type": "code",
   "execution_count": 449,
   "id": "89e883a4",
   "metadata": {},
   "outputs": [
    {
     "data": {
      "text/plain": [
       "11     -4.0\n",
       "67     -5.0\n",
       "77     -4.0\n",
       "166    -1.0\n",
       "179    -5.0\n",
       "       ... \n",
       "9867   -4.0\n",
       "9873   -1.0\n",
       "9888   -2.0\n",
       "9985   -5.0\n",
       "9987   -1.0\n",
       "Name: Quantidade, Length: 367, dtype: float64"
      ]
     },
     "execution_count": 449,
     "metadata": {},
     "output_type": "execute_result"
    }
   ],
   "source": [
    "# Filtro de valores fora da regra de negócio\n",
    "dados['Quantidade'].loc[(dados['Quantidade'] < 1) | (dados['Quantidade'] > 100)]"
   ]
  },
  {
   "cell_type": "code",
   "execution_count": 450,
   "id": "f3c1d9a1",
   "metadata": {},
   "outputs": [],
   "source": [
    "# Correção de valores incorretos com base na regra de negócio\n",
    "dados.loc[(dados['Quantidade'] < 1) | (dados['Quantidade'] > 100)] = medianaQtd"
   ]
  },
  {
   "cell_type": "code",
   "execution_count": 451,
   "id": "1bcdae65",
   "metadata": {},
   "outputs": [
    {
     "data": {
      "text/html": [
       "<div>\n",
       "<style scoped>\n",
       "    .dataframe tbody tr th:only-of-type {\n",
       "        vertical-align: middle;\n",
       "    }\n",
       "\n",
       "    .dataframe tbody tr th {\n",
       "        vertical-align: top;\n",
       "    }\n",
       "\n",
       "    .dataframe thead th {\n",
       "        text-align: right;\n",
       "    }\n",
       "</style>\n",
       "<table border=\"1\" class=\"dataframe\">\n",
       "  <thead>\n",
       "    <tr style=\"text-align: right;\">\n",
       "      <th></th>\n",
       "      <th>Data</th>\n",
       "      <th>Loja</th>\n",
       "      <th>Produto</th>\n",
       "      <th>Categoria</th>\n",
       "      <th>Quantidade</th>\n",
       "      <th>Preço Unitário</th>\n",
       "      <th>Total Venda</th>\n",
       "      <th>Cliente_ID</th>\n",
       "      <th>Forma_Pagamento</th>\n",
       "    </tr>\n",
       "  </thead>\n",
       "  <tbody>\n",
       "  </tbody>\n",
       "</table>\n",
       "</div>"
      ],
      "text/plain": [
       "Empty DataFrame\n",
       "Columns: [Data, Loja, Produto, Categoria, Quantidade, Preço Unitário, Total Venda, Cliente_ID, Forma_Pagamento]\n",
       "Index: []"
      ]
     },
     "execution_count": 451,
     "metadata": {},
     "output_type": "execute_result"
    }
   ],
   "source": [
    "# Nova verificação de valores fora da regra\n",
    "dados.loc[(dados['Quantidade'] < 1) | (dados['Quantidade'] > 100)]"
   ]
  },
  {
   "cell_type": "code",
   "execution_count": 452,
   "id": "0bf199ea",
   "metadata": {},
   "outputs": [],
   "source": [
    "dados = dados.astype({\n",
    "    'Data': 'datetime64[us]',\n",
    "    'Loja': 'string',\n",
    "    'Produto': 'string',\n",
    "    'Categoria': 'string',\n",
    "    'Quantidade': 'int64',\n",
    "    'Cliente_ID': 'int64',\n",
    "    'Forma_Pagamento': 'string'\n",
    "})"
   ]
  },
  {
   "cell_type": "code",
   "execution_count": 453,
   "id": "d903fdbc",
   "metadata": {},
   "outputs": [
    {
     "name": "stdout",
     "output_type": "stream",
     "text": [
      "<class 'pandas.core.frame.DataFrame'>\n",
      "RangeIndex: 10000 entries, 0 to 9999\n",
      "Data columns (total 9 columns):\n",
      " #   Column           Non-Null Count  Dtype         \n",
      "---  ------           --------------  -----         \n",
      " 0   Data             10000 non-null  datetime64[us]\n",
      " 1   Loja             10000 non-null  string        \n",
      " 2   Produto          10000 non-null  string        \n",
      " 3   Categoria        10000 non-null  string        \n",
      " 4   Quantidade       10000 non-null  int64         \n",
      " 5   Preço Unitário   9697 non-null   float64       \n",
      " 6   Total Venda      8346 non-null   float64       \n",
      " 7   Cliente_ID       10000 non-null  int64         \n",
      " 8   Forma_Pagamento  9696 non-null   string        \n",
      "dtypes: datetime64[us](1), float64(2), int64(2), string(4)\n",
      "memory usage: 703.3 KB\n"
     ]
    }
   ],
   "source": [
    "# Contagem de nulos\n",
    "dados.info()"
   ]
  },
  {
   "cell_type": "markdown",
   "id": "8d323a64",
   "metadata": {},
   "source": [
    "### Regra de negócio Preço"
   ]
  },
  {
   "cell_type": "code",
   "execution_count": 454,
   "id": "8ed923d9",
   "metadata": {},
   "outputs": [
    {
     "data": {
      "text/plain": [
       "np.float64(22.42)"
      ]
     },
     "execution_count": 454,
     "metadata": {},
     "output_type": "execute_result"
    }
   ],
   "source": [
    "mediaPreco = dados['Preço Unitário'].mean()\n",
    "mediaPreco = round(mediaPreco, 2)\n",
    "mediaPreco"
   ]
  },
  {
   "cell_type": "code",
   "execution_count": 455,
   "id": "811ed6db",
   "metadata": {},
   "outputs": [
    {
     "name": "stderr",
     "output_type": "stream",
     "text": [
      "C:\\Users\\jamsilva\\AppData\\Local\\Temp\\ipykernel_20240\\937395872.py:1: FutureWarning: ChainedAssignmentError: behaviour will change in pandas 3.0!\n",
      "You are setting values through chained assignment. Currently this works in certain cases, but when using Copy-on-Write (which will become the default behaviour in pandas 3.0) this will never work to update the original DataFrame or Series, because the intermediate object on which we are setting values will behave as a copy.\n",
      "A typical example is when you are setting values in a column of a DataFrame, like:\n",
      "\n",
      "df[\"col\"][row_indexer] = value\n",
      "\n",
      "Use `df.loc[row_indexer, \"col\"] = values` instead, to perform the assignment in a single step and ensure this keeps updating the original `df`.\n",
      "\n",
      "See the caveats in the documentation: https://pandas.pydata.org/pandas-docs/stable/user_guide/indexing.html#returning-a-view-versus-a-copy\n",
      "\n",
      "  dados['Preço Unitário'].loc[(dados['Preço Unitário'] < 0.50) | (dados['Preço Unitário'] > 500)] = mediaPreco\n",
      "C:\\Users\\jamsilva\\AppData\\Local\\Temp\\ipykernel_20240\\937395872.py:1: SettingWithCopyWarning: \n",
      "A value is trying to be set on a copy of a slice from a DataFrame\n",
      "\n",
      "See the caveats in the documentation: https://pandas.pydata.org/pandas-docs/stable/user_guide/indexing.html#returning-a-view-versus-a-copy\n",
      "  dados['Preço Unitário'].loc[(dados['Preço Unitário'] < 0.50) | (dados['Preço Unitário'] > 500)] = mediaPreco\n"
     ]
    }
   ],
   "source": [
    "dados['Preço Unitário'].loc[(dados['Preço Unitário'] < 0.50) | (dados['Preço Unitário'] > 500)] = mediaPreco"
   ]
  },
  {
   "cell_type": "code",
   "execution_count": 456,
   "id": "fb275883",
   "metadata": {},
   "outputs": [
    {
     "name": "stderr",
     "output_type": "stream",
     "text": [
      "C:\\Users\\jamsilva\\AppData\\Local\\Temp\\ipykernel_20240\\1929562576.py:1: FutureWarning: A value is trying to be set on a copy of a DataFrame or Series through chained assignment using an inplace method.\n",
      "The behavior will change in pandas 3.0. This inplace method will never work because the intermediate object on which we are setting values always behaves as a copy.\n",
      "\n",
      "For example, when doing 'df[col].method(value, inplace=True)', try using 'df.method({col: value}, inplace=True)' or df[col] = df[col].method(value) instead, to perform the operation inplace on the original object.\n",
      "\n",
      "\n",
      "  dados['Preço Unitário'].fillna(mediaPreco, inplace=True)\n"
     ]
    }
   ],
   "source": [
    "dados['Preço Unitário'].fillna(mediaPreco, inplace=True)\n",
    "dados.loc[(dados['Preço Unitário'] < 0.50) | (dados['Preço Unitário'] > 500.0)] = mediaPreco"
   ]
  },
  {
   "cell_type": "code",
   "execution_count": 457,
   "id": "bcd9cbdc",
   "metadata": {},
   "outputs": [
    {
     "data": {
      "text/plain": [
       "count    10000.000000\n",
       "mean        24.661908\n",
       "std         13.959693\n",
       "min          1.500000\n",
       "25%         13.157500\n",
       "50%         22.595000\n",
       "75%         36.330000\n",
       "max         50.000000\n",
       "Name: Preço Unitário, dtype: float64"
      ]
     },
     "execution_count": 457,
     "metadata": {},
     "output_type": "execute_result"
    }
   ],
   "source": [
    "dados['Preço Unitário'].describe()"
   ]
  },
  {
   "cell_type": "markdown",
   "id": "2497999b",
   "metadata": {},
   "source": [
    "### Regra Total da Venda"
   ]
  },
  {
   "cell_type": "code",
   "execution_count": 458,
   "id": "e2347fc2",
   "metadata": {},
   "outputs": [
    {
     "data": {
      "text/plain": [
       "count    8346.000000\n",
       "mean      135.277260\n",
       "std       114.645145\n",
       "min         1.540000\n",
       "25%        39.600000\n",
       "50%       103.600000\n",
       "75%       206.727500\n",
       "max       499.300000\n",
       "Name: Total Venda, dtype: float64"
      ]
     },
     "execution_count": 458,
     "metadata": {},
     "output_type": "execute_result"
    }
   ],
   "source": [
    "dados['Total Venda'].describe()"
   ]
  },
  {
   "cell_type": "code",
   "execution_count": null,
   "id": "6b46ba30",
   "metadata": {},
   "outputs": [
    {
     "data": {
      "text/html": [
       "<div>\n",
       "<style scoped>\n",
       "    .dataframe tbody tr th:only-of-type {\n",
       "        vertical-align: middle;\n",
       "    }\n",
       "\n",
       "    .dataframe tbody tr th {\n",
       "        vertical-align: top;\n",
       "    }\n",
       "\n",
       "    .dataframe thead th {\n",
       "        text-align: right;\n",
       "    }\n",
       "</style>\n",
       "<table border=\"1\" class=\"dataframe\">\n",
       "  <thead>\n",
       "    <tr style=\"text-align: right;\">\n",
       "      <th></th>\n",
       "      <th>Data</th>\n",
       "      <th>Loja</th>\n",
       "      <th>Produto</th>\n",
       "      <th>Categoria</th>\n",
       "      <th>Quantidade</th>\n",
       "      <th>Preço Unitário</th>\n",
       "      <th>Total Venda</th>\n",
       "      <th>Cliente_ID</th>\n",
       "      <th>Forma_Pagamento</th>\n",
       "    </tr>\n",
       "  </thead>\n",
       "  <tbody>\n",
       "    <tr>\n",
       "      <th>2</th>\n",
       "      <td>2023-03-21 00:00:00.000000</td>\n",
       "      <td>Loja C</td>\n",
       "      <td>Refrigerante</td>\n",
       "      <td>Bebidas</td>\n",
       "      <td>2</td>\n",
       "      <td>22.42</td>\n",
       "      <td>72.60</td>\n",
       "      <td>5353</td>\n",
       "      <td>Transferência</td>\n",
       "    </tr>\n",
       "    <tr>\n",
       "      <th>5</th>\n",
       "      <td>2023-12-27 00:00:00.000000</td>\n",
       "      <td>Loja A</td>\n",
       "      <td>Refrigerante</td>\n",
       "      <td>Bebidas</td>\n",
       "      <td>9</td>\n",
       "      <td>15.64</td>\n",
       "      <td>NaN</td>\n",
       "      <td>8287</td>\n",
       "      <td>Pix</td>\n",
       "    </tr>\n",
       "    <tr>\n",
       "      <th>10</th>\n",
       "      <td>2022-03-29 00:00:00.000000</td>\n",
       "      <td>Loja B</td>\n",
       "      <td>Pasta de Dente</td>\n",
       "      <td>Higiene</td>\n",
       "      <td>2</td>\n",
       "      <td>31.21</td>\n",
       "      <td>NaN</td>\n",
       "      <td>1659</td>\n",
       "      <td>Dinheiro</td>\n",
       "    </tr>\n",
       "    <tr>\n",
       "      <th>11</th>\n",
       "      <td>1970-01-01 00:00:00.000002</td>\n",
       "      <td>2.0</td>\n",
       "      <td>2.0</td>\n",
       "      <td>2.0</td>\n",
       "      <td>2</td>\n",
       "      <td>2.00</td>\n",
       "      <td>2.00</td>\n",
       "      <td>2</td>\n",
       "      <td>2.0</td>\n",
       "    </tr>\n",
       "    <tr>\n",
       "      <th>14</th>\n",
       "      <td>2024-06-01 00:00:00.000000</td>\n",
       "      <td>Loja B</td>\n",
       "      <td>Arroz</td>\n",
       "      <td>Alimentos</td>\n",
       "      <td>5</td>\n",
       "      <td>10.27</td>\n",
       "      <td>51.35</td>\n",
       "      <td>4418</td>\n",
       "      <td>Pix</td>\n",
       "    </tr>\n",
       "    <tr>\n",
       "      <th>...</th>\n",
       "      <td>...</td>\n",
       "      <td>...</td>\n",
       "      <td>...</td>\n",
       "      <td>...</td>\n",
       "      <td>...</td>\n",
       "      <td>...</td>\n",
       "      <td>...</td>\n",
       "      <td>...</td>\n",
       "      <td>...</td>\n",
       "    </tr>\n",
       "    <tr>\n",
       "      <th>9987</th>\n",
       "      <td>1970-01-01 00:00:00.000002</td>\n",
       "      <td>2.0</td>\n",
       "      <td>2.0</td>\n",
       "      <td>2.0</td>\n",
       "      <td>2</td>\n",
       "      <td>2.00</td>\n",
       "      <td>2.00</td>\n",
       "      <td>2</td>\n",
       "      <td>2.0</td>\n",
       "    </tr>\n",
       "    <tr>\n",
       "      <th>9988</th>\n",
       "      <td>2024-10-20 00:00:00.000000</td>\n",
       "      <td>Loja A</td>\n",
       "      <td>Detergente</td>\n",
       "      <td>Limpeza</td>\n",
       "      <td>2</td>\n",
       "      <td>11.74</td>\n",
       "      <td>NaN</td>\n",
       "      <td>9310</td>\n",
       "      <td>Dinheiro</td>\n",
       "    </tr>\n",
       "    <tr>\n",
       "      <th>9989</th>\n",
       "      <td>2024-11-08 00:00:00.000000</td>\n",
       "      <td>Loja C</td>\n",
       "      <td>Cerveja</td>\n",
       "      <td>Bebidas</td>\n",
       "      <td>5</td>\n",
       "      <td>49.33</td>\n",
       "      <td>246.65</td>\n",
       "      <td>5255</td>\n",
       "      <td>Dinheiro</td>\n",
       "    </tr>\n",
       "    <tr>\n",
       "      <th>9991</th>\n",
       "      <td>2023-05-04 00:00:00.000000</td>\n",
       "      <td>Loja A</td>\n",
       "      <td>Pasta de Dente</td>\n",
       "      <td>Higiene</td>\n",
       "      <td>6</td>\n",
       "      <td>35.05</td>\n",
       "      <td>NaN</td>\n",
       "      <td>9151</td>\n",
       "      <td>Transferência</td>\n",
       "    </tr>\n",
       "    <tr>\n",
       "      <th>9995</th>\n",
       "      <td>2022-02-04 00:00:00.000000</td>\n",
       "      <td>Loja B</td>\n",
       "      <td>Sabão em Pó</td>\n",
       "      <td>Limpeza</td>\n",
       "      <td>10</td>\n",
       "      <td>22.42</td>\n",
       "      <td>NaN</td>\n",
       "      <td>5088</td>\n",
       "      <td>Pix</td>\n",
       "    </tr>\n",
       "  </tbody>\n",
       "</table>\n",
       "<p>3633 rows × 9 columns</p>\n",
       "</div>"
      ],
      "text/plain": [
       "                           Data    Loja         Produto  Categoria  \\\n",
       "2    2023-03-21 00:00:00.000000  Loja C    Refrigerante    Bebidas   \n",
       "5    2023-12-27 00:00:00.000000  Loja A    Refrigerante    Bebidas   \n",
       "10   2022-03-29 00:00:00.000000  Loja B  Pasta de Dente    Higiene   \n",
       "11   1970-01-01 00:00:00.000002     2.0             2.0        2.0   \n",
       "14   2024-06-01 00:00:00.000000  Loja B           Arroz  Alimentos   \n",
       "...                         ...     ...             ...        ...   \n",
       "9987 1970-01-01 00:00:00.000002     2.0             2.0        2.0   \n",
       "9988 2024-10-20 00:00:00.000000  Loja A      Detergente    Limpeza   \n",
       "9989 2024-11-08 00:00:00.000000  Loja C         Cerveja    Bebidas   \n",
       "9991 2023-05-04 00:00:00.000000  Loja A  Pasta de Dente    Higiene   \n",
       "9995 2022-02-04 00:00:00.000000  Loja B     Sabão em Pó    Limpeza   \n",
       "\n",
       "      Quantidade  Preço Unitário  Total Venda  Cliente_ID Forma_Pagamento  \n",
       "2              2           22.42        72.60        5353   Transferência  \n",
       "5              9           15.64          NaN        8287             Pix  \n",
       "10             2           31.21          NaN        1659        Dinheiro  \n",
       "11             2            2.00         2.00           2             2.0  \n",
       "14             5           10.27        51.35        4418             Pix  \n",
       "...          ...             ...          ...         ...             ...  \n",
       "9987           2            2.00         2.00           2             2.0  \n",
       "9988           2           11.74          NaN        9310        Dinheiro  \n",
       "9989           5           49.33       246.65        5255        Dinheiro  \n",
       "9991           6           35.05          NaN        9151   Transferência  \n",
       "9995          10           22.42          NaN        5088             Pix  \n",
       "\n",
       "[3633 rows x 9 columns]"
      ]
     },
     "execution_count": 459,
     "metadata": {},
     "output_type": "execute_result"
    }
   ],
   "source": [
    "dados.loc[dados['Total Venda'] != (dados['Preço Unitário'] * dados['Quantidade'])]"
   ]
  },
  {
   "cell_type": "code",
   "execution_count": 462,
   "id": "0c5552e0",
   "metadata": {},
   "outputs": [
    {
     "name": "stderr",
     "output_type": "stream",
     "text": [
      "C:\\Users\\jamsilva\\AppData\\Local\\Temp\\ipykernel_20240\\1496579656.py:1: FutureWarning: ChainedAssignmentError: behaviour will change in pandas 3.0!\n",
      "You are setting values through chained assignment. Currently this works in certain cases, but when using Copy-on-Write (which will become the default behaviour in pandas 3.0) this will never work to update the original DataFrame or Series, because the intermediate object on which we are setting values will behave as a copy.\n",
      "A typical example is when you are setting values in a column of a DataFrame, like:\n",
      "\n",
      "df[\"col\"][row_indexer] = value\n",
      "\n",
      "Use `df.loc[row_indexer, \"col\"] = values` instead, to perform the assignment in a single step and ensure this keeps updating the original `df`.\n",
      "\n",
      "See the caveats in the documentation: https://pandas.pydata.org/pandas-docs/stable/user_guide/indexing.html#returning-a-view-versus-a-copy\n",
      "\n",
      "  dados['Total Venda'].loc[dados['Total Venda'] != (dados['Preço Unitário'] * dados['Quantidade'])] = dados['Quantidade'] * dados['Preço Unitário']\n",
      "C:\\Users\\jamsilva\\AppData\\Local\\Temp\\ipykernel_20240\\1496579656.py:1: SettingWithCopyWarning: \n",
      "A value is trying to be set on a copy of a slice from a DataFrame\n",
      "\n",
      "See the caveats in the documentation: https://pandas.pydata.org/pandas-docs/stable/user_guide/indexing.html#returning-a-view-versus-a-copy\n",
      "  dados['Total Venda'].loc[dados['Total Venda'] != (dados['Preço Unitário'] * dados['Quantidade'])] = dados['Quantidade'] * dados['Preço Unitário']\n"
     ]
    }
   ],
   "source": [
    "dados['Total Venda'].loc[dados['Total Venda'] != (dados['Preço Unitário'] * dados['Quantidade'])] = dados['Quantidade'] * dados['Preço Unitário']"
   ]
  },
  {
   "cell_type": "code",
   "execution_count": 463,
   "id": "b5bfc0cd",
   "metadata": {},
   "outputs": [
    {
     "data": {
      "text/html": [
       "<div>\n",
       "<style scoped>\n",
       "    .dataframe tbody tr th:only-of-type {\n",
       "        vertical-align: middle;\n",
       "    }\n",
       "\n",
       "    .dataframe tbody tr th {\n",
       "        vertical-align: top;\n",
       "    }\n",
       "\n",
       "    .dataframe thead th {\n",
       "        text-align: right;\n",
       "    }\n",
       "</style>\n",
       "<table border=\"1\" class=\"dataframe\">\n",
       "  <thead>\n",
       "    <tr style=\"text-align: right;\">\n",
       "      <th></th>\n",
       "      <th>Data</th>\n",
       "      <th>Loja</th>\n",
       "      <th>Produto</th>\n",
       "      <th>Categoria</th>\n",
       "      <th>Quantidade</th>\n",
       "      <th>Preço Unitário</th>\n",
       "      <th>Total Venda</th>\n",
       "      <th>Cliente_ID</th>\n",
       "      <th>Forma_Pagamento</th>\n",
       "    </tr>\n",
       "  </thead>\n",
       "  <tbody>\n",
       "  </tbody>\n",
       "</table>\n",
       "</div>"
      ],
      "text/plain": [
       "Empty DataFrame\n",
       "Columns: [Data, Loja, Produto, Categoria, Quantidade, Preço Unitário, Total Venda, Cliente_ID, Forma_Pagamento]\n",
       "Index: []"
      ]
     },
     "execution_count": 463,
     "metadata": {},
     "output_type": "execute_result"
    }
   ],
   "source": [
    "dados.loc[dados['Total Venda'] != (dados['Preço Unitário'] * dados['Quantidade'])]"
   ]
  }
 ],
 "metadata": {
  "kernelspec": {
   "display_name": "Python 3",
   "language": "python",
   "name": "python3"
  },
  "language_info": {
   "codemirror_mode": {
    "name": "ipython",
    "version": 3
   },
   "file_extension": ".py",
   "mimetype": "text/x-python",
   "name": "python",
   "nbconvert_exporter": "python",
   "pygments_lexer": "ipython3",
   "version": "3.13.5"
  }
 },
 "nbformat": 4,
 "nbformat_minor": 5
}
